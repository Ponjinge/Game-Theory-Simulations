{
 "cells": [
  {
   "cell_type": "code",
   "execution_count": 13,
   "metadata": {},
   "outputs": [],
   "source": [
    "import markdown_utils\n",
    "from IPython.display import display, Markdown"
   ]
  },
  {
   "cell_type": "code",
   "execution_count": 14,
   "metadata": {},
   "outputs": [
    {
     "name": "stdout",
     "output_type": "stream",
     "text": [
      "# Hello\n",
      "\n"
     ]
    }
   ],
   "source": [
    "print(markdown_utils.header(\"Hello\"))"
   ]
  },
  {
   "cell_type": "code",
   "execution_count": 15,
   "metadata": {},
   "outputs": [
    {
     "data": {
      "text/markdown": [
       "# Hello\n",
       "## This is a header\n",
       "**This text is bold***This text is italic*[This is a link](https://www.example.com)- Item 1\n",
       "- Item 2\n",
       "- Item 3\n",
       "1. First item\n",
       "2. Second item\n",
       "3. Third item\n",
       "```python\n",
       "print(\"Hello, world!\")\n",
       "```\n",
       "> This is a blockquote\n",
       "---\n"
      ],
      "text/plain": [
       "<IPython.core.display.Markdown object>"
      ]
     },
     "metadata": {},
     "output_type": "display_data"
    }
   ],
   "source": [
    "\n",
    "\n",
    "def display_markdown(text):\n",
    "    \"\"\"Display the given Markdown text in the output area of the current Jupyter notebook cell.\"\"\"\n",
    "    display(Markdown(text))\n",
    "\n",
    "display_markdown(\n",
    "    \n",
    "    markdown_utils.header(\"Hello\")+\n",
    "    markdown_utils.header(\"This is a header\", 2)+\n",
    "    markdown_utils.bold(\"This text is bold\")+\n",
    "    markdown_utils.italic(\"This text is italic\")+\n",
    "    markdown_utils.link(\"This is a link\", \"https://www.example.com\")+\n",
    "    markdown_utils.unordered_list([\"Item 1\", \"Item 2\", \"Item 3\"])+\n",
    "    markdown_utils.ordered_list([\"First item\", \"Second item\", \"Third item\"])+\n",
    "    markdown_utils.code_block('print(\"Hello, world!\")', \"python\")+\n",
    "    markdown_utils.blockquote(\"This is a blockquote\")+\n",
    "    markdown_utils.horizontal_rule()\n",
    "    \n",
    "    )\n"
   ]
  },
  {
   "cell_type": "code",
   "execution_count": null,
   "metadata": {},
   "outputs": [],
   "source": []
  }
 ],
 "metadata": {
  "kernelspec": {
   "display_name": "Python 3",
   "language": "python",
   "name": "python3"
  },
  "language_info": {
   "codemirror_mode": {
    "name": "ipython",
    "version": 3
   },
   "file_extension": ".py",
   "mimetype": "text/x-python",
   "name": "python",
   "nbconvert_exporter": "python",
   "pygments_lexer": "ipython3",
   "version": "3.11.7"
  }
 },
 "nbformat": 4,
 "nbformat_minor": 2
}
